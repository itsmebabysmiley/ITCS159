{
 "cells": [
  {
   "cell_type": "code",
   "execution_count": 1,
   "metadata": {},
   "outputs": [
    {
     "name": "stdout",
     "output_type": "stream",
     "text": [
      "-2\n",
      "2.5\n",
      "2\n",
      "-3\n",
      "10\n",
      "25\n"
     ]
    }
   ],
   "source": [
    "x=2\n",
    "y=5\n",
    "print(-x)\n",
    "print(y/x)\n",
    "print(y//x)\n",
    "print(-y//x)\n",
    "print(y*x)\n",
    "print(y**x)"
   ]
  },
  {
   "cell_type": "code",
   "execution_count": 3,
   "metadata": {},
   "outputs": [
    {
     "name": "stdout",
     "output_type": "stream",
     "text": [
      "False\n",
      "False\n",
      "True\n",
      "False\n",
      "False\n",
      "True\n",
      "False\n"
     ]
    }
   ],
   "source": [
    "print(-2 > 5)\n",
    "print(2.35 >= 23.5)\n",
    "print(7.45 != 5.0)\n",
    "print(\"ict\" < \"computer science\")\n",
    "print(\"chair\" == \"Chair\")\n",
    "print(\"net\" < \"network\")\n",
    "print(\"Same\" != \"Same\")"
   ]
  },
  {
   "cell_type": "code",
   "execution_count": 4,
   "metadata": {},
   "outputs": [
    {
     "name": "stdout",
     "output_type": "stream",
     "text": [
      "True\n",
      "False\n",
      "True\n"
     ]
    }
   ],
   "source": [
    "print(\"a\" < \"c\" and 2 < 4)\n",
    "print(not 2 < 4)\n",
    "print(\"a\" < \"c\" or 4 < 2)\n"
   ]
  },
  {
   "cell_type": "code",
   "execution_count": 5,
   "metadata": {},
   "outputs": [
    {
     "ename": "IndentationError",
     "evalue": "expected an indented block (<ipython-input-5-e0125e585897>, line 2)",
     "output_type": "error",
     "traceback": [
      "\u001b[1;36m  File \u001b[1;32m\"<ipython-input-5-e0125e585897>\"\u001b[1;36m, line \u001b[1;32m2\u001b[0m\n\u001b[1;33m    print(x)\u001b[0m\n\u001b[1;37m        ^\u001b[0m\n\u001b[1;31mIndentationError\u001b[0m\u001b[1;31m:\u001b[0m expected an indented block\n"
     ]
    }
   ],
   "source": [
    "if True:\n",
    "print(x)"
   ]
  },
  {
   "cell_type": "code",
   "execution_count": 7,
   "metadata": {},
   "outputs": [
    {
     "name": "stdout",
     "output_type": "stream",
     "text": [
      "Enter in km: 1\n",
      "miles is  0.621371\n"
     ]
    }
   ],
   "source": [
    "#km to miles\n",
    "km = float(input('Enter in km: '))\n",
    "print('miles is ',km*0.621371)"
   ]
  },
  {
   "cell_type": "code",
   "execution_count": 8,
   "metadata": {},
   "outputs": [
    {
     "name": "stdout",
     "output_type": "stream",
     "text": [
      "Enter number of loop: 2\n",
      "2\n",
      "1\n"
     ]
    }
   ],
   "source": [
    "number = int(input(\"Enter number of loop: \"))\n",
    "while number > 0:\n",
    "    print(number)\n",
    "    number=number-1"
   ]
  },
  {
   "cell_type": "code",
   "execution_count": 9,
   "metadata": {},
   "outputs": [
    {
     "name": "stdout",
     "output_type": "stream",
     "text": [
      "Number: 3\n",
      "Number: 2\n",
      "Number: 1\n",
      "Number: -1\n",
      "2.0\n"
     ]
    }
   ],
   "source": [
    "counter=0\n",
    "total=0\n",
    "number=0\n",
    "number = int(input(\"Number: \"))\n",
    "while number >= 0:\n",
    "    total += number\n",
    "    counter +=1\n",
    "    number = int(input(\"Number: \"))\n",
    "avg = total/counter\n",
    "print(avg)\n"
   ]
  },
  {
   "cell_type": "code",
   "execution_count": 10,
   "metadata": {},
   "outputs": [
    {
     "name": "stdout",
     "output_type": "stream",
     "text": [
      "0\n",
      "1\n",
      "2\n",
      "2\n",
      "3\n",
      "4\n",
      "5\n",
      "3\n",
      "7\n"
     ]
    }
   ],
   "source": [
    "for x in range(3):\n",
    "    print(x)\n",
    "for x in range(2, 6):\n",
    "    print(x)\n",
    "for x in range(3, 8, 4):\n",
    "    print(x)\n"
   ]
  },
  {
   "cell_type": "code",
   "execution_count": 17,
   "metadata": {},
   "outputs": [
    {
     "name": "stdout",
     "output_type": "stream",
     "text": [
      "1\n",
      "2\n",
      "3\n",
      "1\n",
      "2\n",
      "3\n",
      "2\n",
      "2\n",
      "3\n"
     ]
    }
   ],
   "source": [
    "a = (1,2,3)\n",
    "b = [1,2,3]\n",
    "for x in a:\n",
    "    print(x)\n",
    "\n",
    "for x in b:\n",
    "    print(x)\n",
    "    \n",
    "a[0] = 2\n",
    "for x in a:\n",
    "    print(x)\n",
    "    \n",
    "b[0] = 2\n",
    "for x in b:\n",
    "    print(x)"
   ]
  },
  {
   "cell_type": "code",
   "execution_count": 18,
   "metadata": {},
   "outputs": [
    {
     "ename": "TypeError",
     "evalue": "unsupported operand type(s) for /: 'int' and 'set'",
     "output_type": "error",
     "traceback": [
      "\u001b[1;31m---------------------------------------------------------------------------\u001b[0m",
      "\u001b[1;31mTypeError\u001b[0m                                 Traceback (most recent call last)",
      "\u001b[1;32m<ipython-input-18-9b21600da9f8>\u001b[0m in \u001b[0;36m<module>\u001b[1;34m\u001b[0m\n\u001b[0;32m      1\u001b[0m \u001b[0mn\u001b[0m \u001b[1;33m=\u001b[0m \u001b[1;33m{\u001b[0m\u001b[1;36m1\u001b[0m\u001b[1;33m,\u001b[0m\u001b[1;36m10\u001b[0m\u001b[1;33m,\u001b[0m\u001b[1;36m100\u001b[0m\u001b[1;33m,\u001b[0m\u001b[1;36m100\u001b[0m\u001b[1;33m}\u001b[0m\u001b[1;33m\u001b[0m\u001b[1;33m\u001b[0m\u001b[0m\n\u001b[1;32m----> 2\u001b[1;33m \u001b[0me\u001b[0m \u001b[1;33m=\u001b[0m \u001b[0mpow\u001b[0m\u001b[1;33m(\u001b[0m\u001b[1;36m1\u001b[0m\u001b[1;33m+\u001b[0m\u001b[1;33m(\u001b[0m\u001b[1;36m1\u001b[0m\u001b[1;33m/\u001b[0m\u001b[0mn\u001b[0m\u001b[1;33m)\u001b[0m\u001b[1;33m,\u001b[0m\u001b[0mn\u001b[0m\u001b[1;33m)\u001b[0m\u001b[1;33m\u001b[0m\u001b[1;33m\u001b[0m\u001b[0m\n\u001b[0m",
      "\u001b[1;31mTypeError\u001b[0m: unsupported operand type(s) for /: 'int' and 'set'"
     ]
    }
   ],
   "source": [
    "n = {1,10,100,100}\n",
    "e = pow(1+(1/n),n)"
   ]
  },
  {
   "cell_type": "code",
   "execution_count": 30,
   "metadata": {},
   "outputs": [
    {
     "name": "stdout",
     "output_type": "stream",
     "text": [
      "0.0\n",
      "23.02585092994046\n",
      "460.51701859880916\n"
     ]
    }
   ],
   "source": [
    "import math\n",
    "n = {1,10,100,100}\n",
    "for i in n:\n",
    "    print(i*math.log(i))"
   ]
  },
  {
   "cell_type": "code",
   "execution_count": 31,
   "metadata": {},
   "outputs": [
    {
     "name": "stdout",
     "output_type": "stream",
     "text": [
      "4.8979591836734695\n"
     ]
    }
   ],
   "source": [
    "u = 0\n",
    "s = 120\n",
    "t = 7\n",
    "a = (2*s)/t**2\n",
    "print(a)\n"
   ]
  },
  {
   "cell_type": "code",
   "execution_count": 36,
   "metadata": {},
   "outputs": [
    {
     "name": "stdout",
     "output_type": "stream",
     "text": [
      "0.49999999999999994\n",
      "0.5000000000000001\n",
      "1.633123935319537e+16\n"
     ]
    }
   ],
   "source": [
    "print(math.sin(math.radians(30)))\n",
    "print(math.cos(math.radians(60)))\n",
    "print(math.tan(math.radians(90)))"
   ]
  },
  {
   "cell_type": "code",
   "execution_count": 43,
   "metadata": {},
   "outputs": [
    {
     "data": {
      "image/png": "[encoded data removed]",
      "text/plain": [
       "<Figure size 432x288 with 1 Axes>"
      ]
     },
     "metadata": {
      "needs_background": "light"
     },
     "output_type": "display_data"
    }
   ],
   "source": [
    "import numpy as np\n",
    "import matplotlib.pyplot as plt\n",
    "#initialize variables\n",
    "#velocity, gravity\n",
    "v = 30\n",
    "g = 9.81\n",
    "theta = np.radians(53) #convert to radians,\n",
    "tmax = (2*v*(math.sin(theta)))/g # how to find out time that object hit the floor.\n",
    "timemat = tmax*np.linspace(0,1,100)\n",
    "plt.figure()\n",
    "x = ((v * timemat) * np.cos(theta))\n",
    "y = ((v * timemat) * np.sin(theta)) - ((0.5 * g) * (timemat ** 2))\n",
    "plt.plot(x,y) #plot each dataset: columns of x and columns of y\n",
    "plt.ylim([0,35])\n",
    "plt.show()"
   ]
  },
  {
   "cell_type": "code",
   "execution_count": 1,
   "metadata": {},
   "outputs": [
    {
     "name": "stdout",
     "output_type": "stream",
     "text": [
      "maximum height is  3.26197757390418  total time is  1.6309887869520896\n"
     ]
    }
   ],
   "source": [
    "#task15\n",
    "sin53 = 0.8\n",
    "g = 9.81\n",
    "v = 10\n",
    "Ttotal = (2*v*sin53)/g\n",
    "Hmax = ((v**2)*(0.8**2))/(2*g)\n",
    "print('maximum height is ',Hmax,' total time is ',Ttotal)"
   ]
  },
  {
   "cell_type": "code",
   "execution_count": null,
   "metadata": {},
   "outputs": [],
   "source": []
  }
 ],
 "metadata": {
  "kernelspec": {
   "display_name": "Python 3",
   "language": "python",
   "name": "python3"
  },
  "language_info": {
   "codemirror_mode": {
    "name": "ipython",
    "version": 3
   },
   "file_extension": ".py",
   "mimetype": "text/x-python",
   "name": "python",
   "nbconvert_exporter": "python",
   "pygments_lexer": "ipython3",
   "version": "3.7.6"
  }
 },
 "nbformat": 4,
 "nbformat_minor": 4
}
